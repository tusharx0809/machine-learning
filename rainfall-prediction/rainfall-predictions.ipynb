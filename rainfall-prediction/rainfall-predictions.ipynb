{
 "cells": [
  {
   "cell_type": "code",
   "execution_count": null,
   "metadata": {},
   "outputs": [],
   "source": [
    "import pandas as pd\n",
    "import numpy as np\n",
    "from sklearn.impute import SimpleImputer\n",
    "from sklearn.preprocessing import MinMaxScaler, OneHotEncoder\n",
    "import matplotlib\n",
    "import seaborn as sns\n",
    "import matplotlib.pyplot as plt\n",
    "%matplotlib inline\n",
    "sns.set_style('darkgrid')\n",
    "matplotlib.rcParams['font.size'] = 14\n",
    "matplotlib.rcParams['figure.figsize'] = (10, 6)\n",
    "matplotlib.rcParams['figure.facecolor'] = '#00000000'"
   ]
  },
  {
   "cell_type": "code",
   "execution_count": null,
   "metadata": {},
   "outputs": [],
   "source": [
    "raw_df = pd.read_csv('weatherAUS.csv')\n",
    "raw_df.dropna(subset=['RainToday', 'RainTomorrow'], inplace=True)\n",
    "raw_df"
   ]
  },
  {
   "cell_type": "code",
   "execution_count": null,
   "metadata": {},
   "outputs": [],
   "source": [
    "fig, ax = plt.subplots()\n",
    "sns.histplot(data = raw_df,\n",
    "             x = 'Location',\n",
    "             hue = 'RainToday',\n",
    "             palette = ['blue','red'],\n",
    "             multiple = 'stack',\n",
    "             ax = ax)\n",
    "ax.set_title('Location vs Rainy Days')\n",
    "plt.xticks(rotation = 90,\n",
    "           fontsize = 8)\n",
    "plt.show()"
   ]
  },
  {
   "cell_type": "code",
   "execution_count": null,
   "metadata": {},
   "outputs": [],
   "source": [
    "fig, ax = plt.subplots()\n",
    "sns.histplot(data = raw_df,\n",
    "             x = 'Temp3pm',\n",
    "             hue = 'RainTomorrow',\n",
    "             multiple = 'stack',\n",
    "             palette = ['blue','red'],\n",
    "             ax = ax)\n",
    "ax.set_title('Temperatue at 3pm vs. Rain Tomorrow')\n",
    "plt.show()"
   ]
  },
  {
   "cell_type": "code",
   "execution_count": null,
   "metadata": {},
   "outputs": [],
   "source": [
    "fig, ax = plt.subplots()\n",
    "sns.histplot(data = raw_df,\n",
    "             x = 'RainTomorrow',\n",
    "             hue = 'RainToday',\n",
    "             multiple = 'stack',\n",
    "             palette = ['blue','red'],\n",
    "             ax = ax)\n",
    "ax.set_title('Rain tomorrow vs. Rain Today')\n",
    "plt.show()"
   ]
  },
  {
   "cell_type": "code",
   "execution_count": null,
   "metadata": {},
   "outputs": [],
   "source": [
    "sns.scatterplot(data = raw_df.sample(2000),\n",
    "                x = 'MinTemp',\n",
    "                y = 'MaxTemp',\n",
    "                hue = 'RainToday')\n",
    "plt.title('MinTemp vs. MaxTemp')\n",
    "plt.show()"
   ]
  },
  {
   "cell_type": "code",
   "execution_count": null,
   "metadata": {},
   "outputs": [],
   "source": [
    "sns.scatterplot(data = raw_df.sample(2000),\n",
    "                x = 'Temp3pm',\n",
    "                y = 'Humidity3pm',\n",
    "                hue = 'RainTomorrow')\n",
    "plt.title('Temp3pm vs Humidity3pm')\n",
    "plt.show()"
   ]
  },
  {
   "cell_type": "code",
   "execution_count": null,
   "metadata": {},
   "outputs": [],
   "source": [
    "year = pd.to_datetime(raw_df.Date).dt.year\n",
    "train_df, val_df, test_df = raw_df[year < 2015], raw_df[year == 2015], raw_df[year > 2015]\n",
    "\n",
    "# Create inputs and targets\n",
    "input_cols = list(train_df.columns)[1:-1]\n",
    "target_col = 'RainTomorrow'\n",
    "train_inputs, train_targets = train_df[input_cols].copy(), train_df[target_col].copy()\n",
    "val_inputs, val_targets = val_df[input_cols].copy(), val_df[target_col].copy()\n",
    "test_inputs, test_targets = test_df[input_cols].copy(), test_df[target_col].copy()\n",
    "\n",
    "# Identify numeric and categorical columns\n",
    "numeric_cols = train_inputs.select_dtypes(include=np.number).columns.tolist()[:-1]\n",
    "categorical_cols = train_inputs.select_dtypes('object').columns.tolist()\n",
    "categorical_cols\n"
   ]
  },
  {
   "cell_type": "code",
   "execution_count": null,
   "metadata": {},
   "outputs": [],
   "source": [
    "# Impute missing numerical values\n",
    "imputer = SimpleImputer(strategy = 'mean').fit(raw_df[numeric_cols])\n",
    "train_inputs[numeric_cols] = imputer.transform(train_inputs[numeric_cols])\n",
    "val_inputs[numeric_cols] = imputer.transform(val_inputs[numeric_cols])\n",
    "test_inputs[numeric_cols] = imputer.transform(test_inputs[numeric_cols])\n",
    "\n"
   ]
  },
  {
   "cell_type": "code",
   "execution_count": null,
   "metadata": {},
   "outputs": [],
   "source": [
    "# Scale numeric features\n",
    "scaler = MinMaxScaler().fit(raw_df[numeric_cols])\n",
    "train_inputs[numeric_cols] = scaler.transform(train_inputs[numeric_cols])\n",
    "val_inputs[numeric_cols] = scaler.transform(val_inputs[numeric_cols])\n",
    "test_inputs[numeric_cols] = scaler.transform(test_inputs[numeric_cols])\n"
   ]
  },
  {
   "cell_type": "code",
   "execution_count": null,
   "metadata": {},
   "outputs": [],
   "source": [
    "# One-hot encode categorical features\n",
    "encoder = OneHotEncoder(handle_unknown='ignore').fit(raw_df[categorical_cols])\n",
    "encoded_cols = list(encoder.get_feature_names_out(categorical_cols))\n",
    "encoded_cols\n",
    "\n",
    "# Transform the data\n",
    "train_encoded = encoder.transform(train_inputs[categorical_cols]).toarray()\n",
    "val_encoded = encoder.transform(val_inputs[categorical_cols]).toarray()\n",
    "test_encoded = encoder.transform(test_inputs[categorical_cols]).toarray()\n",
    "\n",
    "# Convert these arrays into dataframes\n",
    "train_encoded_df = pd.DataFrame(train_encoded, columns=encoded_cols)\n",
    "val_encoded_df = pd.DataFrame(val_encoded, columns=encoded_cols)\n",
    "test_encoded_df = pd.DataFrame(test_encoded, columns=encoded_cols)\n",
    "\n",
    "# Concatenate these dataframes with the original ones\n",
    "train_inputs = pd.concat([train_inputs, train_encoded_df], axis=1)\n",
    "val_inputs = pd.concat([val_inputs, val_encoded_df], axis=1)\n",
    "test_inputs = pd.concat([test_inputs, test_encoded_df], axis=1)"
   ]
  },
  {
   "cell_type": "code",
   "execution_count": null,
   "metadata": {},
   "outputs": [],
   "source": [
    "test_inputs"
   ]
  },
  {
   "cell_type": "code",
   "execution_count": null,
   "metadata": {},
   "outputs": [],
   "source": []
  }
 ],
 "metadata": {
  "kernelspec": {
   "display_name": "Python 3",
   "language": "python",
   "name": "python3"
  },
  "language_info": {
   "codemirror_mode": {
    "name": "ipython",
    "version": 3
   },
   "file_extension": ".py",
   "mimetype": "text/x-python",
   "name": "python",
   "nbconvert_exporter": "python",
   "pygments_lexer": "ipython3",
   "version": "3.12.1"
  }
 },
 "nbformat": 4,
 "nbformat_minor": 2
}
